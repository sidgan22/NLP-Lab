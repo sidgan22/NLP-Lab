{
 "cells": [
  {
   "cell_type": "code",
   "execution_count": 15,
   "metadata": {},
   "outputs": [
    {
     "name": "stderr",
     "output_type": "stream",
     "text": [
      "[nltk_data] Downloading package stopwords to\n",
      "[nltk_data]     C:\\Users\\sidga\\AppData\\Roaming\\nltk_data...\n",
      "[nltk_data]   Package stopwords is already up-to-date!\n"
     ]
    },
    {
     "data": {
      "text/plain": [
       "True"
      ]
     },
     "execution_count": 15,
     "metadata": {},
     "output_type": "execute_result"
    }
   ],
   "source": [
    "import nltk\n",
    "import os\n",
    "nltk.download('stopwords')"
   ]
  },
  {
   "cell_type": "code",
   "execution_count": 16,
   "metadata": {},
   "outputs": [
    {
     "data": {
      "text/plain": [
       "'A chatbot is a computer prograam that is desigend to simulate human conversation.\\nUsers communicate with these tools using a chat interface or via voice, just like they would convrse with another person.\\nMedWhat-One of my favorite pastimes is radically misdiagnosing myself with life-threatening illnesses on medical websites (often in the wee hours of the night when I can’t sleep). If you’re the kind of person who has WebMD bookmarked for similar reasons, it might be worth checking out MedWhat.This chatbot aims to make medical diagnoses faster, easier, and more transparent for both patients and physicians – think of it like an intelligent version of WebMD that you can talk to. MedWhat is powered by a sophisticated machine learning system that offers increasingly accurate responses to user questions based on behaviors that it “learns” by interacting with human beings.\\nIn many ways, MedWhat is much closer to a virtual assistant (like Google Now) rather than a conversational agent. It also represents an exciting field of chatbot development that pairs intelligent NLP systems with machine learning technology to offer users an accurate and responsive experience.'"
      ]
     },
     "execution_count": 16,
     "metadata": {},
     "output_type": "execute_result"
    }
   ],
   "source": [
    "#Question 2: Read and display file\n",
    "\n",
    "f=open('chatbot.txt','r',encoding=\"utf8\")\n",
    "raw=f.read()\n",
    "raw"
   ]
  },
  {
   "cell_type": "code",
   "execution_count": 17,
   "metadata": {},
   "outputs": [
    {
     "name": "stdout",
     "output_type": "stream",
     "text": [
      "Sentences: \n",
      "\n",
      "\n",
      " ['A chatbot is a computer prograam that is desigend to simulate human conversation.', 'Users communicate with these tools using a chat interface or via voice, just like they would convrse with another person.', 'MedWhat-One of my favorite pastimes is radically misdiagnosing myself with life-threatening illnesses on medical websites (often in the wee hours of the night when I can’t sleep).', 'If you’re the kind of person who has WebMD bookmarked for similar reasons, it might be worth checking out MedWhat.This chatbot aims to make medical diagnoses faster, easier, and more transparent for both patients and physicians – think of it like an intelligent version of WebMD that you can talk to.', 'MedWhat is powered by a sophisticated machine learning system that offers increasingly accurate responses to user questions based on behaviors that it “learns” by interacting with human beings.', 'In many ways, MedWhat is much closer to a virtual assistant (like Google Now) rather than a conversational agent.', 'It also represents an exciting field of chatbot development that pairs intelligent NLP systems with machine learning technology to offer users an accurate and responsive experience.'] \n",
      "\n",
      "\n",
      "Words: \n",
      "\n",
      "\n",
      " ['A', 'chatbot', 'is', 'a', 'computer', 'prograam', 'that', 'is', 'desigend', 'to', 'simulate', 'human', 'conversation', '.', 'Users', 'communicate', 'with', 'these', 'tools', 'using', 'a', 'chat', 'interface', 'or', 'via', 'voice', ',', 'just', 'like', 'they', 'would', 'convrse', 'with', 'another', 'person', '.', 'MedWhat-One', 'of', 'my', 'favorite', 'pastimes', 'is', 'radically', 'misdiagnosing', 'myself', 'with', 'life-threatening', 'illnesses', 'on', 'medical', 'websites', '(', 'often', 'in', 'the', 'wee', 'hours', 'of', 'the', 'night', 'when', 'I', 'can', '’', 't', 'sleep', ')', '.', 'If', 'you', '’', 're', 'the', 'kind', 'of', 'person', 'who', 'has', 'WebMD', 'bookmarked', 'for', 'similar', 'reasons', ',', 'it', 'might', 'be', 'worth', 'checking', 'out', 'MedWhat.This', 'chatbot', 'aims', 'to', 'make', 'medical', 'diagnoses', 'faster', ',', 'easier', ',', 'and', 'more', 'transparent', 'for', 'both', 'patients', 'and', 'physicians', '–', 'think', 'of', 'it', 'like', 'an', 'intelligent', 'version', 'of', 'WebMD', 'that', 'you', 'can', 'talk', 'to', '.', 'MedWhat', 'is', 'powered', 'by', 'a', 'sophisticated', 'machine', 'learning', 'system', 'that', 'offers', 'increasingly', 'accurate', 'responses', 'to', 'user', 'questions', 'based', 'on', 'behaviors', 'that', 'it', '“', 'learns', '”', 'by', 'interacting', 'with', 'human', 'beings', '.', 'In', 'many', 'ways', ',', 'MedWhat', 'is', 'much', 'closer', 'to', 'a', 'virtual', 'assistant', '(', 'like', 'Google', 'Now', ')', 'rather', 'than', 'a', 'conversational', 'agent', '.', 'It', 'also', 'represents', 'an', 'exciting', 'field', 'of', 'chatbot', 'development', 'that', 'pairs', 'intelligent', 'NLP', 'systems', 'with', 'machine', 'learning', 'technology', 'to', 'offer', 'users', 'an', 'accurate', 'and', 'responsive', 'experience', '.']\n"
     ]
    }
   ],
   "source": [
    "#Question 3: Extract sentences and words from this file.\n",
    "\n",
    "sentences = nltk.sent_tokenize(raw)\n",
    "words = nltk.word_tokenize(raw)\n",
    "print(\"Sentences: \\n\\n\\n\",sentences,\"\\n\\n\\nWords: \\n\\n\\n\",words)"
   ]
  },
  {
   "cell_type": "code",
   "execution_count": 18,
   "metadata": {},
   "outputs": [
    {
     "name": "stdout",
     "output_type": "stream",
     "text": [
      "Stopwords:  is, a, that, is, to, with, these, a, or, just, they, with, of, my, is, myself, with, on, in, the, of, the, when, can, t, you, re, the, of, who, has, for, it, be, out, to, and, more, for, both, and, of, it, an, of, that, you, can, to, is, by, a, that, to, on, that, it, by, with, is, to, a, than, a, an, of, that, with, to, an, and, \n",
      "\n",
      "Number of stop-words in file:  71\n",
      "\n",
      "\n",
      "Number of non stop-words in file:  135\n"
     ]
    }
   ],
   "source": [
    "#Question 4: If there are any stop-words, remove them.\n",
    "#Question 5: Count number of stop words and non stop-words.\n",
    "from nltk.corpus import stopwords\n",
    "eng_stop = set(stopwords.words('english'))\n",
    "\n",
    "swrd = []\n",
    "nswrd = []\n",
    "\n",
    "print(\"Stopwords: \",end=\" \")\n",
    "for word in words:\n",
    "    if word in eng_stop:\n",
    "        print(word,end=', ')\n",
    "        swrd.append(word)\n",
    "    else:\n",
    "        nswrd.append(word)\n",
    "print(\"\\n\\nNumber of stop-words in file: \",len(swrd))\n",
    "\n",
    "print(\"\\n\\nNumber of non stop-words in file: \",len(nswrd))"
   ]
  },
  {
   "cell_type": "code",
   "execution_count": 19,
   "metadata": {},
   "outputs": [
    {
     "data": {
      "text/plain": [
       "'எனது என்.எல்.பி வேலையின் ஒரு பகுதியாக மொழிபெயர்ப்பாளரைச் சரிபார்க்கிறது.'"
      ]
     },
     "execution_count": 19,
     "metadata": {},
     "output_type": "execute_result"
    }
   ],
   "source": [
    "#Question 6: Translate any ten of these words into your native language.\n",
    "from translate import Translator\n",
    "\n",
    "translator = Translator(to_lang='Tamil')\n",
    "translation = translator.translate('Checking translator as part of my NLP assignment.')\n",
    "translation"
   ]
  },
  {
   "cell_type": "code",
   "execution_count": 21,
   "metadata": {},
   "outputs": [],
   "source": [
    "from spellchecker import SpellChecker"
   ]
  },
  {
   "cell_type": "code",
   "execution_count": 42,
   "metadata": {
    "scrolled": true
   },
   "outputs": [
    {
     "name": "stdout",
     "output_type": "stream",
     "text": [
      "Corrected Text:  A chariot is a computer program that is designed to simulate human conversation . Users communicate with these tools using a chat interface or via voice , just like they would converse with another person . MedWhat-One of my favorite pastimes is radically misdiagnosis myself with life-threatening illnesses on medical webster ( often in the wee hours of the night when I can a t sleep ) . If you a re the kind of person who has weird bookmaker for similar reasons , it might be worth checking out MedWhat.This chariot aims to make medical diagnoses faster , easier , and more transparent for both patients and physicians a think of it like an intelligent version of weird that you can talk to . medway is powered by a sophisticated machine learning system that offers increasingly accurate responses to user questions based on behaviors that it a learns a by interacting with human beings . In many ways , medway is much closer to a virtual assistant ( like goole Now ) rather than a conversational agent . It also represents an exciting field of chariot development that pairs intelligent NLP systems with machine learning technology to offer users an accurate and responsive experience . \n",
      "\n",
      "Old words:  A chatbot is a computer prograam that is desigend to simulate human conversation . Users communicate with these tools using a chat interface or via voice , just like they would convrse with another person . MedWhat-One of my favorite pastimes is radically misdiagnosing myself with life-threatening illnesses on medical websites ( often in the wee hours of the night when I can ’ t sleep ) . If you ’ re the kind of person who has WebMD bookmarked for similar reasons , it might be worth checking out MedWhat.This chatbot aims to make medical diagnoses faster , easier , and more transparent for both patients and physicians – think of it like an intelligent version of WebMD that you can talk to . MedWhat is powered by a sophisticated machine learning system that offers increasingly accurate responses to user questions based on behaviors that it “ learns ” by interacting with human beings . In many ways , MedWhat is much closer to a virtual assistant ( like Google Now ) rather than a conversational agent . It also represents an exciting field of chatbot development that pairs intelligent NLP systems with machine learning technology to offer users an accurate and responsive experience . \n",
      "\n",
      "Misspelled words:  {'webmd', '–', 'misdiagnosing', '”', 'convrse', 'medwhat', 'google', 'bookmarked', 'chatbot', 'prograam', 'websites', 'medwhat-one', 'desigend', '’', 'medwhat.this', '“'}\n"
     ]
    }
   ],
   "source": [
    "#Question 7:  If there are any spelling mistakes, remove the identified ones \n",
    "spell = SpellChecker()\n",
    "spell.known('chatbot')\n",
    "misspell = []\n",
    "words_new = []\n",
    "\n",
    "# for word in words:\n",
    "#     if(spell.unknown(word)):\n",
    "#         misspell.append(word)\n",
    "#         words_new.append(spell.correction(word))\n",
    "#     else:\n",
    "#         words_new.append(word)\n",
    "misspelled = spell.unknown(words)\n",
    "crct = spell.known(words)\n",
    "\n",
    "for word in words:\n",
    "    if(word in crct):\n",
    "        words_new.append(word)\n",
    "    else:\n",
    "        words_new.append(spell.correction(word))\n",
    "\n",
    "\n",
    "new_text = ' '.join(w for w in words_new)\n",
    "old_text = ' '.join(w for w in words)\n",
    "mis = ' '.join(w for w in misspell)\n",
    "print(\"Corrected Text: \",new_text,\"\\n\\nOld words: \",old_text,\"\\n\\nMisspelled words: \",misspelled)\n",
    "\n",
    "#Write back corrected text to file\n",
    "output_file = open('output.txt', 'w')\n",
    "nw = ''.join(word for word in words_new)\n",
    "print(nw,file=output_file)"
   ]
  },
  {
   "cell_type": "code",
   "execution_count": null,
   "metadata": {},
   "outputs": [],
   "source": []
  },
  {
   "cell_type": "code",
   "execution_count": null,
   "metadata": {},
   "outputs": [],
   "source": []
  }
 ],
 "metadata": {
  "kernelspec": {
   "display_name": "Python 3",
   "language": "python",
   "name": "python3"
  },
  "language_info": {
   "codemirror_mode": {
    "name": "ipython",
    "version": 3
   },
   "file_extension": ".py",
   "mimetype": "text/x-python",
   "name": "python",
   "nbconvert_exporter": "python",
   "pygments_lexer": "ipython3",
   "version": "3.7.6"
  }
 },
 "nbformat": 4,
 "nbformat_minor": 4
}
