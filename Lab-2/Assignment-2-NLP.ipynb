{
 "metadata": {
  "language_info": {
   "codemirror_mode": {
    "name": "ipython",
    "version": 3
   },
   "file_extension": ".py",
   "mimetype": "text/x-python",
   "name": "python",
   "nbconvert_exporter": "python",
   "pygments_lexer": "ipython3",
   "version": "3.8.3-final"
  },
  "orig_nbformat": 2,
  "kernelspec": {
   "name": "python_defaultSpec_1598199192802",
   "display_name": "Python 3.8.3 64-bit ('base': conda)"
  }
 },
 "nbformat": 4,
 "nbformat_minor": 2,
 "cells": [
  {
   "cell_type": "code",
   "execution_count": 36,
   "metadata": {},
   "outputs": [],
   "source": [
    "import nltk\n",
    "import os\n",
    "from nltk.tokenize import word_tokenize\n",
    "from nltk.probability import FreqDist"
   ]
  },
  {
   "cell_type": "code",
   "execution_count": 37,
   "metadata": {},
   "outputs": [
    {
     "output_type": "execute_result",
     "data": {
      "text/plain": "'A chatbot is a computer prograam that is desigend to simulate hguman conversation.\\nUsers communicate with these tools using a chat interface or via voice, just like they would convarse with another person.\\nMedWhat-One of my favorite pastimes is radically misdiagnosing myself with life-threatening illnesses on medical websites (often in the wee hours of the night when I can’t sleep). If you’re the kind of person who has WebMD bookmarked for similar reasons, it might be worth checking out MedWhat.This chatbot aims to make medical diagnoses faster, easier, and more transparent for both patients and physicians – think of it like an intelligent version of WebMD that you can talk to. MedWhat is powered by a sophisticated machine learning system that offers increasingly accurate responses to user questions based on behaviors that it “learns” by interacting with human beings.\\nIn many ways, MedWhat is much closer to a virtual assistant (like Google Now) rather than a conversational agent. It also represents an exciting field of chatbot development that pairs intelligent NLP systems with machine learning technology to offer users an accurate and responsive experience.'"
     },
     "metadata": {},
     "execution_count": 37
    }
   ],
   "source": [
    "f=open('output.txt','r',encoding=\"utf8\")\n",
    "raw=f.read()\n",
    "raw\n"
   ]
  },
  {
   "cell_type": "code",
   "execution_count": 38,
   "metadata": {},
   "outputs": [
    {
     "output_type": "execute_result",
     "data": {
      "text/plain": "['A', 'chatbot', 'is', 'a', 'computer']"
     },
     "metadata": {},
     "execution_count": 38
    }
   ],
   "source": [
    "words = nltk.word_tokenize(raw)\n",
    "words[:5]"
   ]
  },
  {
   "cell_type": "code",
   "execution_count": 39,
   "metadata": {},
   "outputs": [
    {
     "output_type": "execute_result",
     "data": {
      "text/plain": "[('.', 7),\n ('to', 6),\n ('of', 6),\n ('is', 5),\n ('a', 5),\n ('that', 5),\n ('with', 5),\n (',', 5),\n ('chatbot', 3),\n ('like', 3)]"
     },
     "metadata": {},
     "execution_count": 39
    }
   ],
   "source": [
    "#Question 2 & 3: 10 most frequently used tokens and their term frequencies\n",
    "freq_dist = FreqDist(words)\n",
    "freq_dist.most_common(10)"
   ]
  },
  {
   "cell_type": "code",
   "execution_count": 40,
   "metadata": {
    "tags": []
   },
   "outputs": [
    {
     "output_type": "stream",
     "name": "stdout",
     "text": "respons\ndevelop\n"
    }
   ],
   "source": [
    "from nltk.stem import PorterStemmer\n",
    "from nltk.stem import LancasterStemmer\n",
    "\n",
    "porter = PorterStemmer()\n",
    "lanc = LancasterStemmer()\n",
    "print(porter.stem('responses'))\n",
    "print(porter.stem('development'))"
   ]
  },
  {
   "cell_type": "code",
   "execution_count": 41,
   "metadata": {
    "tags": []
   },
   "outputs": [
    {
     "output_type": "stream",
     "name": "stdout",
     "text": "Original:  A  Lemmatized:  A\nOriginal:  chatbot  Lemmatized:  chatbot\nOriginal:  is  Lemmatized:  is\nOriginal:  a  Lemmatized:  a\nOriginal:  computer  Lemmatized:  computer\nOriginal:  prograam  Lemmatized:  prograam\nOriginal:  that  Lemmatized:  that\nOriginal:  is  Lemmatized:  is\nOriginal:  desigend  Lemmatized:  desigend\nOriginal:  to  Lemmatized:  to\nOriginal:  simulate  Lemmatized:  simulate\nOriginal:  hguman  Lemmatized:  hguman\nOriginal:  conversation  Lemmatized:  conversation\nOriginal:  .  Lemmatized:  .\nOriginal:  Users  Lemmatized:  Users\nOriginal:  communicate  Lemmatized:  communicate\nOriginal:  with  Lemmatized:  with\nOriginal:  these  Lemmatized:  these\nOriginal:  tools  Lemmatized:  tool\nOriginal:  using  Lemmatized:  using\nOriginal:  a  Lemmatized:  a\nOriginal:  chat  Lemmatized:  chat\nOriginal:  interface  Lemmatized:  interface\nOriginal:  or  Lemmatized:  or\nOriginal:  via  Lemmatized:  via\nOriginal:  voice  Lemmatized:  voice\nOriginal:  ,  Lemmatized:  ,\nOriginal:  just  Lemmatized:  just\nOriginal:  like  Lemmatized:  like\nOriginal:  they  Lemmatized:  they\nOriginal:  would  Lemmatized:  would\nOriginal:  convarse  Lemmatized:  convarse\nOriginal:  with  Lemmatized:  with\nOriginal:  another  Lemmatized:  another\nOriginal:  person  Lemmatized:  person\nOriginal:  .  Lemmatized:  .\nOriginal:  MedWhat-One  Lemmatized:  MedWhat-One\nOriginal:  of  Lemmatized:  of\nOriginal:  my  Lemmatized:  my\nOriginal:  favorite  Lemmatized:  favorite\nOriginal:  pastimes  Lemmatized:  pastime\nOriginal:  is  Lemmatized:  is\nOriginal:  radically  Lemmatized:  radically\nOriginal:  misdiagnosing  Lemmatized:  misdiagnosing\nOriginal:  myself  Lemmatized:  myself\nOriginal:  with  Lemmatized:  with\nOriginal:  life-threatening  Lemmatized:  life-threatening\nOriginal:  illnesses  Lemmatized:  illness\nOriginal:  on  Lemmatized:  on\nOriginal:  medical  Lemmatized:  medical\nOriginal:  websites  Lemmatized:  website\nOriginal:  (  Lemmatized:  (\nOriginal:  often  Lemmatized:  often\nOriginal:  in  Lemmatized:  in\nOriginal:  the  Lemmatized:  the\nOriginal:  wee  Lemmatized:  wee\nOriginal:  hours  Lemmatized:  hour\nOriginal:  of  Lemmatized:  of\nOriginal:  the  Lemmatized:  the\nOriginal:  night  Lemmatized:  night\nOriginal:  when  Lemmatized:  when\nOriginal:  I  Lemmatized:  I\nOriginal:  can  Lemmatized:  can\nOriginal:  ’  Lemmatized:  ’\nOriginal:  t  Lemmatized:  t\nOriginal:  sleep  Lemmatized:  sleep\nOriginal:  )  Lemmatized:  )\nOriginal:  .  Lemmatized:  .\nOriginal:  If  Lemmatized:  If\nOriginal:  you  Lemmatized:  you\nOriginal:  ’  Lemmatized:  ’\nOriginal:  re  Lemmatized:  re\nOriginal:  the  Lemmatized:  the\nOriginal:  kind  Lemmatized:  kind\nOriginal:  of  Lemmatized:  of\nOriginal:  person  Lemmatized:  person\nOriginal:  who  Lemmatized:  who\nOriginal:  has  Lemmatized:  ha\nOriginal:  WebMD  Lemmatized:  WebMD\nOriginal:  bookmarked  Lemmatized:  bookmarked\nOriginal:  for  Lemmatized:  for\nOriginal:  similar  Lemmatized:  similar\nOriginal:  reasons  Lemmatized:  reason\nOriginal:  ,  Lemmatized:  ,\nOriginal:  it  Lemmatized:  it\nOriginal:  might  Lemmatized:  might\nOriginal:  be  Lemmatized:  be\nOriginal:  worth  Lemmatized:  worth\nOriginal:  checking  Lemmatized:  checking\nOriginal:  out  Lemmatized:  out\nOriginal:  MedWhat.This  Lemmatized:  MedWhat.This\nOriginal:  chatbot  Lemmatized:  chatbot\nOriginal:  aims  Lemmatized:  aim\nOriginal:  to  Lemmatized:  to\nOriginal:  make  Lemmatized:  make\nOriginal:  medical  Lemmatized:  medical\nOriginal:  diagnoses  Lemmatized:  diagnosis\nOriginal:  faster  Lemmatized:  faster\nOriginal:  ,  Lemmatized:  ,\nOriginal:  easier  Lemmatized:  easier\nOriginal:  ,  Lemmatized:  ,\nOriginal:  and  Lemmatized:  and\nOriginal:  more  Lemmatized:  more\nOriginal:  transparent  Lemmatized:  transparent\nOriginal:  for  Lemmatized:  for\nOriginal:  both  Lemmatized:  both\nOriginal:  patients  Lemmatized:  patient\nOriginal:  and  Lemmatized:  and\nOriginal:  physicians  Lemmatized:  physician\nOriginal:  –  Lemmatized:  –\nOriginal:  think  Lemmatized:  think\nOriginal:  of  Lemmatized:  of\nOriginal:  it  Lemmatized:  it\nOriginal:  like  Lemmatized:  like\nOriginal:  an  Lemmatized:  an\nOriginal:  intelligent  Lemmatized:  intelligent\nOriginal:  version  Lemmatized:  version\nOriginal:  of  Lemmatized:  of\nOriginal:  WebMD  Lemmatized:  WebMD\nOriginal:  that  Lemmatized:  that\nOriginal:  you  Lemmatized:  you\nOriginal:  can  Lemmatized:  can\nOriginal:  talk  Lemmatized:  talk\nOriginal:  to  Lemmatized:  to\nOriginal:  .  Lemmatized:  .\nOriginal:  MedWhat  Lemmatized:  MedWhat\nOriginal:  is  Lemmatized:  is\nOriginal:  powered  Lemmatized:  powered\nOriginal:  by  Lemmatized:  by\nOriginal:  a  Lemmatized:  a\nOriginal:  sophisticated  Lemmatized:  sophisticated\nOriginal:  machine  Lemmatized:  machine\nOriginal:  learning  Lemmatized:  learning\nOriginal:  system  Lemmatized:  system\nOriginal:  that  Lemmatized:  that\nOriginal:  offers  Lemmatized:  offer\nOriginal:  increasingly  Lemmatized:  increasingly\nOriginal:  accurate  Lemmatized:  accurate\nOriginal:  responses  Lemmatized:  response\nOriginal:  to  Lemmatized:  to\nOriginal:  user  Lemmatized:  user\nOriginal:  questions  Lemmatized:  question\nOriginal:  based  Lemmatized:  based\nOriginal:  on  Lemmatized:  on\nOriginal:  behaviors  Lemmatized:  behavior\nOriginal:  that  Lemmatized:  that\nOriginal:  it  Lemmatized:  it\nOriginal:  “  Lemmatized:  “\nOriginal:  learns  Lemmatized:  learns\nOriginal:  ”  Lemmatized:  ”\nOriginal:  by  Lemmatized:  by\nOriginal:  interacting  Lemmatized:  interacting\nOriginal:  with  Lemmatized:  with\nOriginal:  human  Lemmatized:  human\nOriginal:  beings  Lemmatized:  being\nOriginal:  .  Lemmatized:  .\nOriginal:  In  Lemmatized:  In\nOriginal:  many  Lemmatized:  many\nOriginal:  ways  Lemmatized:  way\nOriginal:  ,  Lemmatized:  ,\nOriginal:  MedWhat  Lemmatized:  MedWhat\nOriginal:  is  Lemmatized:  is\nOriginal:  much  Lemmatized:  much\nOriginal:  closer  Lemmatized:  closer\nOriginal:  to  Lemmatized:  to\nOriginal:  a  Lemmatized:  a\nOriginal:  virtual  Lemmatized:  virtual\nOriginal:  assistant  Lemmatized:  assistant\nOriginal:  (  Lemmatized:  (\nOriginal:  like  Lemmatized:  like\nOriginal:  Google  Lemmatized:  Google\nOriginal:  Now  Lemmatized:  Now\nOriginal:  )  Lemmatized:  )\nOriginal:  rather  Lemmatized:  rather\nOriginal:  than  Lemmatized:  than\nOriginal:  a  Lemmatized:  a\nOriginal:  conversational  Lemmatized:  conversational\nOriginal:  agent  Lemmatized:  agent\nOriginal:  .  Lemmatized:  .\nOriginal:  It  Lemmatized:  It\nOriginal:  also  Lemmatized:  also\nOriginal:  represents  Lemmatized:  represents\nOriginal:  an  Lemmatized:  an\nOriginal:  exciting  Lemmatized:  exciting\nOriginal:  field  Lemmatized:  field\nOriginal:  of  Lemmatized:  of\nOriginal:  chatbot  Lemmatized:  chatbot\nOriginal:  development  Lemmatized:  development\nOriginal:  that  Lemmatized:  that\nOriginal:  pairs  Lemmatized:  pair\nOriginal:  intelligent  Lemmatized:  intelligent\nOriginal:  NLP  Lemmatized:  NLP\nOriginal:  systems  Lemmatized:  system\nOriginal:  with  Lemmatized:  with\nOriginal:  machine  Lemmatized:  machine\nOriginal:  learning  Lemmatized:  learning\nOriginal:  technology  Lemmatized:  technology\nOriginal:  to  Lemmatized:  to\nOriginal:  offer  Lemmatized:  offer\nOriginal:  users  Lemmatized:  user\nOriginal:  an  Lemmatized:  an\nOriginal:  accurate  Lemmatized:  accurate\nOriginal:  and  Lemmatized:  and\nOriginal:  responsive  Lemmatized:  responsive\nOriginal:  experience  Lemmatized:  experience\nOriginal:  .  Lemmatized:  .\n[nltk_data] Downloading package wordnet to\n[nltk_data]     C:\\Users\\shrin\\AppData\\Roaming\\nltk_data...\n[nltk_data]   Package wordnet is already up-to-date!\n"
    }
   ],
   "source": [
    "from nltk.stem import WordNetLemmatizer\n",
    "nltk.download('wordnet')\n",
    "\n",
    "wnLem = WordNetLemmatizer()\n",
    "for word in nltk.word_tokenize(raw):\n",
    "    print(\"Original: \",word,\"\\n Lemmatized: \",wnLem.lemmatize(word))"
   ]
  },
  {
   "cell_type": "code",
   "execution_count": null,
   "metadata": {},
   "outputs": [],
   "source": []
  }
 ]
}